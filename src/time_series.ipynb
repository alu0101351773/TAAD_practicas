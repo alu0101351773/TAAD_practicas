{
 "cells": [
  {
   "cell_type": "markdown",
   "metadata": {},
   "source": [
    "# Análisis de series temporales"
   ]
  },
  {
   "cell_type": "markdown",
   "metadata": {},
   "source": [
    "## Introducción"
   ]
  },
  {
   "cell_type": "markdown",
   "metadata": {},
   "source": [
    "### Propósito del proyecto"
   ]
  },
  {
   "cell_type": "markdown",
   "metadata": {},
   "source": [
    "<!-- TODO: Explicar el propósito del proyecto -->\n",
    "En este proyecto de ciencia de datos se desarrollarán técnicas de regresión mediante series temporales (_time series_) con el objetivo de intentar predecir el precio de acciones en bolsa de diferentes empresas farmacéuticas.\n",
    "\n",
    "En concreto se desea predecir el precio de las acciones de la farmacéutica _Pfizer_ utilizando un conjunto de datos con registros de los últimos 5 años (2019-2024). Para ayudar a la predicción, se cuentan también con información de las siguientes compañías farmacéuticas:\n",
    "\n",
    "* _Moderna_\n",
    "* _AstraZeneca_\n",
    "* _Johnson & Johnson_\n",
    "\n",
    "Esta información adicional se utilizará para comprobar posibles relaciones entre las subidas o valores de las otras empresas frente al estado de las acciones de _Pfizer_.\n",
    "\n",
    "Debido al comportamiento impredecible de la bolsa en corto plazo, se propone realizar una predicción a medio plazo, buscando predecir los precios de las acciones cada semana/dos semanas en vez de de manera diaria. Este punto será desarrollado más adelante.\n",
    "\n",
    "Para este estudio se ha planteado utilizar tres tipos de modelos de series temporales:\n",
    "\n",
    "* Series temporales univariadas.\n",
    "* Series temporales multivariadas.\n",
    "* Series temporales sobre datos de tipo panel.\n",
    "\n",
    "Esta información ha sido extraída del sitio web [Yahoo Finance](https://finance.yahoo.com/)."
   ]
  },
  {
   "cell_type": "markdown",
   "metadata": {},
   "source": [
    "### Librerías utilizadas"
   ]
  },
  {
   "cell_type": "code",
   "execution_count": 3,
   "metadata": {},
   "outputs": [],
   "source": [
    "import pandas as pd\n",
    "import matplotlib.pyplot as plt\n",
    "import numpy as np"
   ]
  },
  {
   "cell_type": "markdown",
   "metadata": {},
   "source": [
    "### Descripción de los conjuntos de datos utilizados"
   ]
  },
  {
   "cell_type": "markdown",
   "metadata": {},
   "source": [
    "<!-- TODO: Explicar conjuntos de datos utilizados -->\n",
    "Los conjuntos de datos se encuentra almacenados en los siguientes ficheros _.csv_:\n",
    "\n",
    "* `AZN.csv` (_AstraZeneca_)\n",
    "* `JNJ.csv` (_Johnson & Johnson_)\n",
    "* `MRNA.csv` (_Moderna_)\n",
    "* `PFE.csv` (_Pfizer_)\n",
    "\n",
    "Al tratarse de datos de valores en bolsa, la estructura de todos los conjuntos de datos es la misma en todos los ficheros:\n",
    "\n",
    "|Campo|Definición|\n",
    "|-|-|\n",
    "|`Date`|Fecha de registro de precios|\n",
    "|`Open`|Precio inicial al momento del registro|\n",
    "|`High`|Precio más alto a lo largo del día|\n",
    "|`Low` |Precio más bajo a lo largo del día|\n",
    "|`Close`|Precio de cierre al final del día|\n",
    "|`Adj Close`|Precio de cierre ajustado al final del día|\n",
    "|`Volume`|Número de acciones vendidas|"
   ]
  },
  {
   "cell_type": "markdown",
   "metadata": {},
   "source": [
    "### Ajustes de granularidad"
   ]
  },
  {
   "cell_type": "markdown",
   "metadata": {},
   "source": [
    "<!-- TODO: Explicar que se reducira de dias a semanas o grupos de 2 semanas -->"
   ]
  },
  {
   "cell_type": "markdown",
   "metadata": {},
   "source": [
    "### Operaciones de transformación de datos"
   ]
  },
  {
   "cell_type": "markdown",
   "metadata": {},
   "source": [
    "<!-- TODO: Explicar dataframe de datos únicos -->"
   ]
  },
  {
   "cell_type": "markdown",
   "metadata": {},
   "source": [
    "<!-- TODO: Explicar dataframe multiindice para panel -->"
   ]
  },
  {
   "cell_type": "markdown",
   "metadata": {},
   "source": [
    "<!-- TODO: Explicar dataframe para data streams -->"
   ]
  },
  {
   "cell_type": "markdown",
   "metadata": {},
   "source": [
    "## Análisis exploratorio de datos"
   ]
  },
  {
   "cell_type": "markdown",
   "metadata": {},
   "source": [
    "### Visualización de datos"
   ]
  },
  {
   "cell_type": "markdown",
   "metadata": {},
   "source": [
    "<!-- TODO: Visualizar shit -->"
   ]
  },
  {
   "cell_type": "markdown",
   "metadata": {},
   "source": [
    "### Tendencia y estacionalidad"
   ]
  },
  {
   "cell_type": "markdown",
   "metadata": {},
   "source": [
    "<!-- TODO: Describir tendencia si la hubiera -->"
   ]
  },
  {
   "cell_type": "markdown",
   "metadata": {},
   "source": [
    "<!-- TODO: Describir estacionalidad si la hubiera -->"
   ]
  },
  {
   "cell_type": "markdown",
   "metadata": {},
   "source": [
    "### Estacionariedad"
   ]
  },
  {
   "cell_type": "markdown",
   "metadata": {},
   "source": [
    "<!-- TODO: Explicar qué es -->"
   ]
  },
  {
   "cell_type": "markdown",
   "metadata": {},
   "source": [
    "<!-- TODO: Comprobar agdfuller sin diferenciar -->"
   ]
  },
  {
   "cell_type": "markdown",
   "metadata": {},
   "source": [
    "<!-- TODO: Comprobar agdfuller diferenciando -->"
   ]
  },
  {
   "cell_type": "markdown",
   "metadata": {},
   "source": [
    "### Autocorrelación (_ACF_) y autocorrelación parcial (_PACF_)"
   ]
  },
  {
   "cell_type": "markdown",
   "metadata": {},
   "source": [
    "<!-- TODO: Explicar por encima correlación y autocorrelación -->"
   ]
  },
  {
   "cell_type": "markdown",
   "metadata": {},
   "source": [
    "<!-- TODO: Realizar graficos -->"
   ]
  },
  {
   "cell_type": "markdown",
   "metadata": {},
   "source": [
    "<!-- *: Explicar valores de ACF y PACF que importan para ARIMA -->"
   ]
  },
  {
   "cell_type": "markdown",
   "metadata": {},
   "source": [
    "## Uso de series temporales"
   ]
  },
  {
   "cell_type": "markdown",
   "metadata": {},
   "source": [
    "### Series univariadas"
   ]
  },
  {
   "cell_type": "markdown",
   "metadata": {},
   "source": [
    "### Series multivariadas"
   ]
  },
  {
   "cell_type": "markdown",
   "metadata": {},
   "source": [
    "### Series de tipo *panel*"
   ]
  },
  {
   "cell_type": "markdown",
   "metadata": {},
   "source": [
    "## Uso de flujos de datos (_Data Streams_)"
   ]
  }
 ],
 "metadata": {
  "kernelspec": {
   "display_name": "Python 3",
   "language": "python",
   "name": "python3"
  },
  "language_info": {
   "codemirror_mode": {
    "name": "ipython",
    "version": 3
   },
   "file_extension": ".py",
   "mimetype": "text/x-python",
   "name": "python",
   "nbconvert_exporter": "python",
   "pygments_lexer": "ipython3",
   "version": "3.11.5"
  }
 },
 "nbformat": 4,
 "nbformat_minor": 2
}

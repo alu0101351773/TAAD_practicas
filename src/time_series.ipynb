{
 "cells": [
  {
   "cell_type": "markdown",
   "metadata": {},
   "source": [
    "# Análisis de series temporales"
   ]
  },
  {
   "cell_type": "markdown",
   "metadata": {},
   "source": [
    "## Descarga de un conjunto de datos"
   ]
  },
  {
   "cell_type": "markdown",
   "metadata": {},
   "source": [
    "El conjunto de datos en cuestión contiene información sobre los valores de las acciones _(stock)_ de la empresa de venta de videojuegos [GameStop](https://es.wikipedia.org/wiki/GameStop). Esta información ha sido recopilada desde el año 2002 hasta enero de 2021, estando referenciada la fecha exacta de cada registro en el conjunto de datos.\n",
    "\n",
    "Este conjunto de datos ha sido extraído del siguiente _post_ de [Kaggle](https://www.kaggle.com/datasets/hananxx/gamestop-historical-stock-prices), un repositorio público de conjuntos de datos."
   ]
  },
  {
   "cell_type": "code",
   "execution_count": 1,
   "metadata": {},
   "outputs": [],
   "source": [
    "import pandas as pd\n",
    "\n",
    "df = pd.read_csv('../data/input/GME_stock.csv')"
   ]
  },
  {
   "cell_type": "markdown",
   "metadata": {},
   "source": [
    "## Descripción (cuantitativa) del conjunto de datos y su origen"
   ]
  },
  {
   "cell_type": "markdown",
   "metadata": {},
   "source": [
    "El conjunto de datos tiene las siguientes características:\n",
    "\n",
    "| Característica | Descripción |\n",
    "|-|-|\n",
    "|`date`|Variable temporal que indica el día de registro de los datos|\n",
    "|`open_price`|Precio inicial del _stock_ al inicio del día|\n",
    "|`high_price`|Precio más alto del _stock_ a lo largo del día|\n",
    "|`low_price`|Precio más bajo del _stock_ a lo largo del día|\n",
    "|`close_price`|Precio del _stock_ al final del día|\n",
    "|`volume`|Número de acciones intercambiadas durante el día|\n",
    "|`adjclose_price`|Precio final del _stock_ ajustado a distribuciones o acciones comerciales ocurridas antes del siguiente día financiero|"
   ]
  },
  {
   "cell_type": "code",
   "execution_count": 2,
   "metadata": {},
   "outputs": [
    {
     "data": {
      "text/html": [
       "<div>\n",
       "<style scoped>\n",
       "    .dataframe tbody tr th:only-of-type {\n",
       "        vertical-align: middle;\n",
       "    }\n",
       "\n",
       "    .dataframe tbody tr th {\n",
       "        vertical-align: top;\n",
       "    }\n",
       "\n",
       "    .dataframe thead th {\n",
       "        text-align: right;\n",
       "    }\n",
       "</style>\n",
       "<table border=\"1\" class=\"dataframe\">\n",
       "  <thead>\n",
       "    <tr style=\"text-align: right;\">\n",
       "      <th></th>\n",
       "      <th>date</th>\n",
       "      <th>open_price</th>\n",
       "      <th>high_price</th>\n",
       "      <th>low_price</th>\n",
       "      <th>close_price</th>\n",
       "      <th>volume</th>\n",
       "      <th>adjclose_price</th>\n",
       "    </tr>\n",
       "  </thead>\n",
       "  <tbody>\n",
       "    <tr>\n",
       "      <th>0</th>\n",
       "      <td>2021-01-28</td>\n",
       "      <td>265.000000</td>\n",
       "      <td>483.000000</td>\n",
       "      <td>112.250000</td>\n",
       "      <td>193.600006</td>\n",
       "      <td>58815800.0</td>\n",
       "      <td>193.600006</td>\n",
       "    </tr>\n",
       "    <tr>\n",
       "      <th>1</th>\n",
       "      <td>2021-01-27</td>\n",
       "      <td>354.829987</td>\n",
       "      <td>380.000000</td>\n",
       "      <td>249.000000</td>\n",
       "      <td>347.510010</td>\n",
       "      <td>93396700.0</td>\n",
       "      <td>347.510010</td>\n",
       "    </tr>\n",
       "    <tr>\n",
       "      <th>2</th>\n",
       "      <td>2021-01-26</td>\n",
       "      <td>88.559998</td>\n",
       "      <td>150.000000</td>\n",
       "      <td>80.199997</td>\n",
       "      <td>147.979996</td>\n",
       "      <td>178588000.0</td>\n",
       "      <td>147.979996</td>\n",
       "    </tr>\n",
       "    <tr>\n",
       "      <th>3</th>\n",
       "      <td>2021-01-25</td>\n",
       "      <td>96.730003</td>\n",
       "      <td>159.179993</td>\n",
       "      <td>61.130001</td>\n",
       "      <td>76.790001</td>\n",
       "      <td>177874000.0</td>\n",
       "      <td>76.790001</td>\n",
       "    </tr>\n",
       "    <tr>\n",
       "      <th>4</th>\n",
       "      <td>2021-01-22</td>\n",
       "      <td>42.590000</td>\n",
       "      <td>76.760002</td>\n",
       "      <td>42.320000</td>\n",
       "      <td>65.010002</td>\n",
       "      <td>196784300.0</td>\n",
       "      <td>65.010002</td>\n",
       "    </tr>\n",
       "    <tr>\n",
       "      <th>...</th>\n",
       "      <td>...</td>\n",
       "      <td>...</td>\n",
       "      <td>...</td>\n",
       "      <td>...</td>\n",
       "      <td>...</td>\n",
       "      <td>...</td>\n",
       "      <td>...</td>\n",
       "    </tr>\n",
       "    <tr>\n",
       "      <th>4768</th>\n",
       "      <td>2002-02-20</td>\n",
       "      <td>9.600000</td>\n",
       "      <td>9.875000</td>\n",
       "      <td>9.525000</td>\n",
       "      <td>9.875000</td>\n",
       "      <td>1723200.0</td>\n",
       "      <td>6.648838</td>\n",
       "    </tr>\n",
       "    <tr>\n",
       "      <th>4769</th>\n",
       "      <td>2002-02-19</td>\n",
       "      <td>9.900000</td>\n",
       "      <td>9.900000</td>\n",
       "      <td>9.375000</td>\n",
       "      <td>9.550000</td>\n",
       "      <td>1852600.0</td>\n",
       "      <td>6.430017</td>\n",
       "    </tr>\n",
       "    <tr>\n",
       "      <th>4770</th>\n",
       "      <td>2002-02-15</td>\n",
       "      <td>10.000000</td>\n",
       "      <td>10.025000</td>\n",
       "      <td>9.850000</td>\n",
       "      <td>9.950000</td>\n",
       "      <td>2097400.0</td>\n",
       "      <td>6.699336</td>\n",
       "    </tr>\n",
       "    <tr>\n",
       "      <th>4771</th>\n",
       "      <td>2002-02-14</td>\n",
       "      <td>10.175000</td>\n",
       "      <td>10.195000</td>\n",
       "      <td>9.925000</td>\n",
       "      <td>10.000000</td>\n",
       "      <td>2755400.0</td>\n",
       "      <td>6.733003</td>\n",
       "    </tr>\n",
       "    <tr>\n",
       "      <th>4772</th>\n",
       "      <td>2002-02-13</td>\n",
       "      <td>9.625000</td>\n",
       "      <td>10.060000</td>\n",
       "      <td>9.525000</td>\n",
       "      <td>10.050000</td>\n",
       "      <td>19054000.0</td>\n",
       "      <td>6.766666</td>\n",
       "    </tr>\n",
       "  </tbody>\n",
       "</table>\n",
       "<p>4773 rows × 7 columns</p>\n",
       "</div>"
      ],
      "text/plain": [
       "            date  open_price  high_price   low_price  close_price  \\\n",
       "0     2021-01-28  265.000000  483.000000  112.250000   193.600006   \n",
       "1     2021-01-27  354.829987  380.000000  249.000000   347.510010   \n",
       "2     2021-01-26   88.559998  150.000000   80.199997   147.979996   \n",
       "3     2021-01-25   96.730003  159.179993   61.130001    76.790001   \n",
       "4     2021-01-22   42.590000   76.760002   42.320000    65.010002   \n",
       "...          ...         ...         ...         ...          ...   \n",
       "4768  2002-02-20    9.600000    9.875000    9.525000     9.875000   \n",
       "4769  2002-02-19    9.900000    9.900000    9.375000     9.550000   \n",
       "4770  2002-02-15   10.000000   10.025000    9.850000     9.950000   \n",
       "4771  2002-02-14   10.175000   10.195000    9.925000    10.000000   \n",
       "4772  2002-02-13    9.625000   10.060000    9.525000    10.050000   \n",
       "\n",
       "           volume  adjclose_price  \n",
       "0      58815800.0      193.600006  \n",
       "1      93396700.0      347.510010  \n",
       "2     178588000.0      147.979996  \n",
       "3     177874000.0       76.790001  \n",
       "4     196784300.0       65.010002  \n",
       "...           ...             ...  \n",
       "4768    1723200.0        6.648838  \n",
       "4769    1852600.0        6.430017  \n",
       "4770    2097400.0        6.699336  \n",
       "4771    2755400.0        6.733003  \n",
       "4772   19054000.0        6.766666  \n",
       "\n",
       "[4773 rows x 7 columns]"
      ]
     },
     "metadata": {},
     "output_type": "display_data"
    }
   ],
   "source": [
    "display(df)"
   ]
  },
  {
   "cell_type": "markdown",
   "metadata": {},
   "source": [
    "## Preguntas a responder sobre este conjunto de datos"
   ]
  },
  {
   "cell_type": "markdown",
   "metadata": {},
   "source": [
    "## Análisis exploratorio de datos"
   ]
  }
 ],
 "metadata": {
  "kernelspec": {
   "display_name": "Python 3",
   "language": "python",
   "name": "python3"
  },
  "language_info": {
   "codemirror_mode": {
    "name": "ipython",
    "version": 3
   },
   "file_extension": ".py",
   "mimetype": "text/x-python",
   "name": "python",
   "nbconvert_exporter": "python",
   "pygments_lexer": "ipython3",
   "version": "3.11.5"
  }
 },
 "nbformat": 4,
 "nbformat_minor": 2
}
